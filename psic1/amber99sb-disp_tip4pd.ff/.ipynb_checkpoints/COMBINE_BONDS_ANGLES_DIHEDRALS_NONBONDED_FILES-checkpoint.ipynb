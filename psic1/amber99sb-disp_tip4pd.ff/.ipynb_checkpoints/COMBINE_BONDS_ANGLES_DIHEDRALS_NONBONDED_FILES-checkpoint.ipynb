{
 "cells": [
  {
   "cell_type": "code",
   "execution_count": null,
   "metadata": {},
   "outputs": [],
   "source": [
    "#!/usr/bin/env python\n",
    "# coding: utf-8"
   ]
  },
  {
   "cell_type": "markdown",
   "metadata": {},
   "source": [
    "In[1]:"
   ]
  },
  {
   "cell_type": "code",
   "execution_count": null,
   "metadata": {},
   "outputs": [],
   "source": [
    "from mpl_toolkits.mplot3d import Axes3D\n",
    "from matplotlib.collections import PolyCollection\n",
    "from matplotlib.colors import colorConverter\n",
    "from matplotlib import cm\n",
    "import numpy as np\n",
    "import nmrglue as ng\n",
    "from scipy.optimize import curve_fit\n",
    "from scipy.special import wofz\n",
    "import matplotlib.pyplot as plt\n",
    "import matplotlib.gridspec as gridspec\n",
    "from ipywidgets import interact, fixed\n",
    "from numpy import cos, sin, arccos, pi as π, tan, exp\n",
    "from lmfit import Model\n",
    "from lmfit.models import PseudoVoigtModel, VoigtModel, LinearModel, ExponentialModel, StepModel, LorentzianModel\n",
    "import sys\n",
    "import scipy as sc\n",
    "import scipy.special as spl \n",
    "import nmrglue as ng\n",
    "import matplotlib as mpl\n",
    "import matplotlib.pyplot as plt\n",
    "from matplotlib import ticker\n",
    "from scipy.signal import find_peaks\n",
    "from scipy.constants import Boltzmann\n",
    "from numpy import power as pwr\n",
    "from scipy.stats import truncnorm\n",
    "import MDAnalysis as mda\n",
    "from MDAnalysis.tests.datafiles import PSF, DCD, GRO, XTC\n",
    "import nglview as nv\n",
    "from IPython.core.display import Image\n",
    "import io\n",
    "import pandas as pd\n",
    "import ipywidgets \n",
    "from MDAnalysis.analysis import diffusionmap, align\n",
    "from MDAnalysis.analysis.base import (AnalysisBase,\n",
    "                                      AnalysisFromFunction,\n",
    "                                      analysis_class)\n",
    "import mdtraj as md\n",
    "from nglview.datafiles import PDB, XTC\n",
    "import MDAnalysis.analysis.rms as rms\n",
    "from kneed import KneeLocator\n",
    "from sklearn.cluster import KMeans\n",
    "from sklearn.metrics import silhouette_score\n",
    "from sklearn.preprocessing import StandardScaler\n",
    "from contact_map import ContactFrequency, ContactDifference, RollingContactFrequency, ContactTrajectory\n",
    "import itertools\n",
    "from MDAnalysis import *\n",
    "from MDAnalysis.lib.formats.libdcd import DCDFile\n",
    "from sklearn import mixture\n",
    "from matplotlib import colors\n",
    "import gromacs as gmx\n",
    "from Bio.PDB import *\n",
    "import gc\n",
    "import parmed as pmd"
   ]
  },
  {
   "cell_type": "markdown",
   "metadata": {},
   "source": [
    "et_ipython().run_line_magic('matplotlib', 'inline')"
   ]
  },
  {
   "cell_type": "markdown",
   "metadata": {},
   "source": [
    "### Combine the BONDS"
   ]
  },
  {
   "cell_type": "markdown",
   "metadata": {},
   "source": [
    "In[7]:"
   ]
  },
  {
   "cell_type": "code",
   "execution_count": null,
   "metadata": {},
   "outputs": [],
   "source": [
    "t1p_bond_dataLog = []\n",
    "s1p_bond_dataLog = []"
   ]
  },
  {
   "cell_type": "code",
   "execution_count": null,
   "metadata": {},
   "outputs": [],
   "source": [
    "with open('T1P_BONDS_WITH_TYPE_AND_VALUES.dat', 'rt') as f:\n",
    "    data = f.read().splitlines()\n",
    "for line in data:\n",
    "    if (line.__contains__('O1P') or line.__contains__('OQ') or line.__contains__('OR')):\n",
    "        t1p_bond_dataLog.append(line)\n",
    "        \n",
    "with open('S1P_BONDS_WITH_TYPE_AND_VALUES.dat', 'rt') as f:\n",
    "    data = f.read().splitlines()\n",
    "for line in data:\n",
    "    if (line.__contains__('OP') or line.__contains__('OQ') or line.__contains__('OR')):\n",
    "        s1p_bond_dataLog.append(line)  \n",
    "        \n",
    "bond_all =  s1p_bond_dataLog + t1p_bond_dataLog   #-----combine all the BONDS containing OP OQ and OR-----#\n",
    "result_bond_all = ['[  bondtypes  ]'] + list(set(bond_all)) #-----get rid off the repeated bondedral-----#"
   ]
  },
  {
   "cell_type": "code",
   "execution_count": null,
   "metadata": {},
   "outputs": [],
   "source": [
    "df = pd.DataFrame(result_bond_all)\n",
    "with open('phosphorylated_bonds.itp', 'w') as f:     \n",
    "    df.to_string(f, col_space=5, index=False, header=False)"
   ]
  },
  {
   "cell_type": "markdown",
   "metadata": {},
   "source": [
    "### Combine the ANGLES"
   ]
  },
  {
   "cell_type": "markdown",
   "metadata": {},
   "source": [
    "In[8]:"
   ]
  },
  {
   "cell_type": "code",
   "execution_count": null,
   "metadata": {},
   "outputs": [],
   "source": [
    "t1p_ang_dataLog = []\n",
    "s1p_ang_dataLog = []"
   ]
  },
  {
   "cell_type": "code",
   "execution_count": null,
   "metadata": {},
   "outputs": [],
   "source": [
    "with open('T1P_ANGLES_WITH_TYPE_AND_VALUES.dat', 'rt') as f:\n",
    "    data = f.read().splitlines()\n",
    "for line in data:\n",
    "    if (line.__contains__('OP') or line.__contains__('OQ') or line.__contains__('OR')):\n",
    "        t1p_ang_dataLog.append(line)\n",
    "        \n",
    "with open('S1P_ANGLES_WITH_TYPE_AND_VALUES.dat', 'rt') as f:\n",
    "    data = f.read().splitlines()\n",
    "for line in data:\n",
    "    if (line.__contains__('OP') or line.__contains__('OQ') or line.__contains__('OR')):\n",
    "        s1p_ang_dataLog.append(line)  \n",
    "        \n",
    "ang_all =  s1p_ang_dataLog + t1p_ang_dataLog   #-----combine all the ANGLES containing OP OQ and OR-----#\n",
    "result_ang_all = ['[  angletypes  ]'] + list(set(ang_all)) #-----get rid off the repeated angedral-----#"
   ]
  },
  {
   "cell_type": "code",
   "execution_count": null,
   "metadata": {},
   "outputs": [],
   "source": [
    "df = pd.DataFrame(result_ang_all)\n",
    "with open('phosphorylated_angles.itp', 'w') as f:     \n",
    "    df.to_string(f, col_space=5, index=False, header=False)"
   ]
  },
  {
   "cell_type": "markdown",
   "metadata": {},
   "source": [
    "### Combine the DIHEDRALS"
   ]
  },
  {
   "cell_type": "markdown",
   "metadata": {},
   "source": [
    "In[9]:"
   ]
  },
  {
   "cell_type": "code",
   "execution_count": null,
   "metadata": {},
   "outputs": [],
   "source": [
    "t1p_dih_dataLog = []\n",
    "s1p_dih_dataLog = []"
   ]
  },
  {
   "cell_type": "code",
   "execution_count": null,
   "metadata": {},
   "outputs": [],
   "source": [
    "with open('T1P_DIHEDRALS_WITH_TYPE_AND_VALUES.dat', 'rt') as f:\n",
    "    data = f.read().splitlines()\n",
    "for line in data:\n",
    "    if (line.__contains__('OP') or line.__contains__('OQ') or line.__contains__('OR')):\n",
    "        t1p_dih_dataLog.append(line)\n",
    "        \n",
    "with open('S1P_DIHEDRALS_WITH_TYPE_AND_VALUES.dat', 'rt') as f:\n",
    "    data = f.read().splitlines()\n",
    "for line in data:\n",
    "    if (line.__contains__('OP') or line.__contains__('OQ') or line.__contains__('OR')):\n",
    "        s1p_dih_dataLog.append(line)  \n",
    "        \n",
    "dih_all =  s1p_dih_dataLog + t1p_dih_dataLog   #-----combine all the dihedrals containing OP OQ and OR-----#\n",
    "result_dih_all = ['[  dihedraltypes  ]'] + list(set(dih_all)) #-----get rid off the repeated dihedral-----#"
   ]
  },
  {
   "cell_type": "code",
   "execution_count": null,
   "metadata": {},
   "outputs": [],
   "source": [
    "df = pd.DataFrame(result_dih_all)\n",
    "with open('phosphorylated_dihedrals.itp', 'w') as f:     \n",
    "    df.to_string(f, col_space=5, index=False, header=False)"
   ]
  },
  {
   "cell_type": "markdown",
   "metadata": {},
   "source": [
    "### Combine the NONBONDED"
   ]
  },
  {
   "cell_type": "markdown",
   "metadata": {},
   "source": [
    "In[29]:"
   ]
  },
  {
   "cell_type": "code",
   "execution_count": null,
   "metadata": {},
   "outputs": [],
   "source": [
    "t1p_nbond_dataLog = []\n",
    "s1p_nbond_dataLog = []"
   ]
  },
  {
   "cell_type": "code",
   "execution_count": null,
   "metadata": {},
   "outputs": [],
   "source": [
    "with open('T1P_NONBONDED.dat', 'rt') as f:\n",
    "    data = f.read().splitlines()\n",
    "for line in data:\n",
    "    if (line.__contains__('OP') or line.__contains__('OQ') or line.__contains__('OR')):\n",
    "        t1p_nbond_dataLog.append(line)\n",
    "        \n",
    "with open('S1P_NONBONDED.dat', 'rt') as f:\n",
    "    data = f.read().splitlines()\n",
    "for line in data:\n",
    "    if (line.__contains__('OP') or line.__contains__('OQ') or line.__contains__('OR')):\n",
    "        s1p_nbond_dataLog.append(line)  \n",
    "        \n",
    "nbond_all =  s1p_nbond_dataLog + t1p_nbond_dataLog   #-----combine all the dihedrals containing OP OQ and OR-----#\n",
    "result_nbond_all = ['[  atomtypes  ]'] + list(set(nbond_all)) #-----get rid off the repeated dihedral-----#"
   ]
  },
  {
   "cell_type": "code",
   "execution_count": null,
   "metadata": {},
   "outputs": [],
   "source": [
    "df = pd.DataFrame(result_nbond_all)\n",
    "with open('phosphorylated_nonbonded.itp', 'w') as f:     \n",
    "    df.to_string(f, col_space=5, index=False, header=False)"
   ]
  },
  {
   "cell_type": "markdown",
   "metadata": {},
   "source": [
    "### Making of .dat file"
   ]
  },
  {
   "cell_type": "markdown",
   "metadata": {},
   "source": [
    "In[28]:"
   ]
  },
  {
   "cell_type": "code",
   "execution_count": null,
   "metadata": {},
   "outputs": [],
   "source": [
    "tempfiles = ['S1P_ATOMS.dat', 'S1P_BONDS_WITH_NAME.dat', 'T1P_ATOMS.dat', 'T1P_BONDS_WITH_NAME.dat']"
   ]
  },
  {
   "cell_type": "code",
   "execution_count": null,
   "metadata": {},
   "outputs": [],
   "source": [
    "with open(\"phosphorylated_residues.dat\", \"w\") as f:\n",
    "    for tempfile in tempfiles:\n",
    "        with open(tempfile) as infile:\n",
    "            f.write(infile.read())\n",
    "            f.write(\"\\n \\n\")"
   ]
  },
  {
   "cell_type": "markdown",
   "metadata": {},
   "source": [
    "In[ ]:"
   ]
  }
 ],
 "metadata": {
  "kernelspec": {
   "display_name": "Python 3 (ipykernel)",
   "language": "python",
   "name": "python3"
  },
  "language_info": {
   "codemirror_mode": {
    "name": "ipython",
    "version": 3
   },
   "file_extension": ".py",
   "mimetype": "text/x-python",
   "name": "python",
   "nbconvert_exporter": "python",
   "pygments_lexer": "ipython3",
   "version": "3.9.7"
  }
 },
 "nbformat": 4,
 "nbformat_minor": 2
}
