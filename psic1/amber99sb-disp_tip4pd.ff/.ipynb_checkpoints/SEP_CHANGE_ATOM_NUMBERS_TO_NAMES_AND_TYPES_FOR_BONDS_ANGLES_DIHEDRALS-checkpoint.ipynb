{
 "cells": [
  {
   "cell_type": "code",
   "execution_count": 29,
   "metadata": {},
   "outputs": [],
   "source": [
    "from mpl_toolkits.mplot3d import Axes3D\n",
    "from matplotlib.collections import PolyCollection\n",
    "from matplotlib.colors import colorConverter\n",
    "from matplotlib import cm\n",
    "import numpy as np\n",
    "import nmrglue as ng\n",
    "from scipy.optimize import curve_fit\n",
    "from scipy.special import wofz\n",
    "import matplotlib.pyplot as plt\n",
    "import matplotlib.gridspec as gridspec\n",
    "from ipywidgets import interact, fixed\n",
    "from numpy import cos, sin, arccos, pi as π, tan, exp\n",
    "from lmfit import Model\n",
    "from lmfit.models import PseudoVoigtModel, VoigtModel, LinearModel, ExponentialModel, StepModel, LorentzianModel\n",
    "import sys\n",
    "import scipy as sc\n",
    "import scipy.special as spl \n",
    "import nmrglue as ng\n",
    "import matplotlib as mpl\n",
    "import matplotlib.pyplot as plt\n",
    "from matplotlib import ticker\n",
    "from scipy.signal import find_peaks\n",
    "from scipy.constants import Boltzmann\n",
    "from numpy import power as pwr\n",
    "from scipy.stats import truncnorm\n",
    "import MDAnalysis as mda\n",
    "from MDAnalysis.tests.datafiles import PSF, DCD, GRO, XTC\n",
    "import nglview as nv\n",
    "from IPython.core.display import Image\n",
    "import io\n",
    "import pandas as pd\n",
    "import ipywidgets \n",
    "from MDAnalysis.analysis import diffusionmap, align\n",
    "from MDAnalysis.analysis.base import (AnalysisBase,\n",
    "                                      AnalysisFromFunction,\n",
    "                                      analysis_class)\n",
    "import mdtraj as md\n",
    "from nglview.datafiles import PDB, XTC\n",
    "import MDAnalysis.analysis.rms as rms\n",
    "from kneed import KneeLocator\n",
    "from sklearn.cluster import KMeans\n",
    "from sklearn.metrics import silhouette_score\n",
    "from sklearn.preprocessing import StandardScaler\n",
    "from contact_map import ContactFrequency, ContactDifference, RollingContactFrequency, ContactTrajectory\n",
    "import itertools\n",
    "from MDAnalysis import *\n",
    "from MDAnalysis.lib.formats.libdcd import DCDFile\n",
    "from sklearn import mixture\n",
    "from matplotlib import colors\n",
    "import gromacs as gmx\n",
    "from Bio.PDB import *\n",
    "import gc\n",
    "import parmed as pmd"
   ]
  },
  {
   "cell_type": "markdown",
   "metadata": {},
   "source": [
    "# For SEP"
   ]
  },
  {
   "cell_type": "code",
   "execution_count": 30,
   "metadata": {},
   "outputs": [
    {
     "name": "stdout",
     "output_type": "stream",
     "text": [
      "atom name =  ['N' 'H' 'CA' 'HA' 'CB' 'HB2' 'HB3' 'OG' 'P' 'O1P' 'O2P' 'O3P' 'C' 'O']\n",
      "atom type =  ['N' 'H' 'CT' 'H1' 'CT' 'H1' 'H1' 'OZ' 'P' 'OX' 'OX' 'OX' 'C' 'O']\n"
     ]
    },
    {
     "name": "stderr",
     "output_type": "stream",
     "text": [
      "/home/subinoy/anaconda3/envs/md/lib/python3.9/site-packages/MDAnalysis/core/universe.py:159: UserWarning: No coordinate reader found for SEP.itp. Skipping this file.\n",
      "  warnings.warn('No coordinate reader found for {}. Skipping '\n"
     ]
    }
   ],
   "source": [
    "u = mda.Universe(\"SEP.itp\")\n",
    "print(\"atom name = \", u.atoms.names)\n",
    "print(\"atom type = \", u.atoms.types)"
   ]
  },
  {
   "cell_type": "code",
   "execution_count": 3,
   "metadata": {},
   "outputs": [],
   "source": [
    "atom_name_sep = ['N', 'HN', 'CA', 'HA', 'CB', 'HB1', 'HB2', 'OG', 'P', 'O1P', 'O2P', 'O3P', 'C', 'O']\n",
    "atom_type_sep = ['N', 'HB', 'CT', 'H1', 'CT' ,'H1', 'H1', 'OR', 'P', 'OP', 'OP', 'OP', 'C', 'O']\n",
    "atom_index_sep = np.arange(len(atom_name_sep))"
   ]
  },
  {
   "cell_type": "markdown",
   "metadata": {},
   "source": [
    "### For SEP atoms"
   ]
  },
  {
   "cell_type": "code",
   "execution_count": 4,
   "metadata": {},
   "outputs": [],
   "source": [
    "with open(\"SEP_ATOMS.txt\",'r') as file:\n",
    "    sep_atoms = np.array(file.read().splitlines())"
   ]
  },
  {
   "cell_type": "code",
   "execution_count": 5,
   "metadata": {},
   "outputs": [],
   "source": [
    "sep_charge = []\n",
    "sep_index = []\n",
    "for i in range(len(sep_atoms)):\n",
    "    sep_charge.append(sep_atoms[i].split()[6])\n",
    "    sep_index.append(sep_atoms[i].split()[0])"
   ]
  },
  {
   "cell_type": "code",
   "execution_count": 6,
   "metadata": {},
   "outputs": [],
   "source": [
    "sep_atoms_all = list(zip(atom_name_sep, atom_type_sep, sep_charge, sep_index))\n",
    "sep_atoms_all = [[\"[ SEP ];\"]] + [[\"[ atoms ];\"]] + sep_atoms_all"
   ]
  },
  {
   "cell_type": "code",
   "execution_count": 7,
   "metadata": {},
   "outputs": [],
   "source": [
    "df_atoms = pd.DataFrame(sep_atoms_all)\n",
    "with open('SEP_ATOMS.dat', 'w') as f: df_atoms.to_string(f, col_space=10, index=False, header=False)"
   ]
  },
  {
   "cell_type": "markdown",
   "metadata": {},
   "source": [
    "### For SEP bonds"
   ]
  },
  {
   "cell_type": "code",
   "execution_count": 8,
   "metadata": {},
   "outputs": [],
   "source": [
    "sep_bonds = np.loadtxt(\"SEP_BONDS.txt\")"
   ]
  },
  {
   "cell_type": "code",
   "execution_count": 9,
   "metadata": {},
   "outputs": [],
   "source": [
    "name_sep_1 = []\n",
    "name_sep_2 = []"
   ]
  },
  {
   "cell_type": "code",
   "execution_count": 10,
   "metadata": {},
   "outputs": [],
   "source": [
    "name_sep_1.append(\"[ bonds ]\")\n",
    "name_sep_2.append(\" \")\n",
    "for i in range(len(sep_bonds)):    \n",
    "    for j in range(len(atom_index_sep)):\n",
    "        \n",
    "        #-----for atom name-----#\n",
    "        if (sep_bonds[:,0][i]-1 == atom_index_sep[j]):\n",
    "            name_sep_1.append(atom_name_sep[j])\n",
    "            \n",
    "        #-----for atom name-----#\n",
    "        if (sep_bonds[:,1][i]-1 == atom_index_sep[j]):\n",
    "            name_sep_2.append(atom_name_sep[j])"
   ]
  },
  {
   "cell_type": "code",
   "execution_count": 11,
   "metadata": {},
   "outputs": [],
   "source": [
    "name_sep_1.append(\"-C\")\n",
    "name_sep_2.append(\"N\")"
   ]
  },
  {
   "cell_type": "code",
   "execution_count": 12,
   "metadata": {},
   "outputs": [],
   "source": [
    "sep_bond = np.column_stack([name_sep_1, name_sep_2])\n",
    "df_name = pd.DataFrame(sep_bond)\n",
    "with open('SEP_BONDS_WITH_NAME.dat', 'w') as f: df_name.to_string(f, col_space=5, index=False, header=False)"
   ]
  },
  {
   "cell_type": "code",
   "execution_count": 13,
   "metadata": {},
   "outputs": [],
   "source": [
    "type_sep_1 = []\n",
    "type_sep_2 = []"
   ]
  },
  {
   "cell_type": "code",
   "execution_count": 14,
   "metadata": {},
   "outputs": [],
   "source": [
    "for i in range(len(sep_bonds)):    \n",
    "    for j in range(len(atom_index_sep)):\n",
    "            \n",
    "        #-----for atom type-----#\n",
    "        if (sep_bonds[:,0][i]-1 == atom_index_sep[j]):\n",
    "            type_sep_1.append(atom_type_sep[j])\n",
    "            \n",
    "        #-----for atom name-----#\n",
    "        if (sep_bonds[:,1][i]-1 == atom_index_sep[j]):\n",
    "            type_sep_2.append(atom_type_sep[j])                 "
   ]
  },
  {
   "cell_type": "code",
   "execution_count": 15,
   "metadata": {},
   "outputs": [],
   "source": [
    "sep_bonds_type_str = sep_bonds.astype(\"str\")\n",
    "sep_bonds_type_str[:,0] = type_sep_1\n",
    "sep_bonds_type_str[:,1] = type_sep_2\n",
    "sep_bonds_type_str[:,2] = sep_bonds_type_str[:,2].astype(float).astype(int).astype(\"str\")\n",
    "sep_bonds_type_str = [[\"[ bondtypes ];\"]] + sep_bonds_type_str.tolist()"
   ]
  },
  {
   "cell_type": "code",
   "execution_count": 16,
   "metadata": {},
   "outputs": [],
   "source": [
    "df_type = pd.DataFrame(sep_bonds_type_str)\n",
    "with open('SEP_BONDS_WITH_TYPE_AND_VALUES.dat', 'w') as f: df_type.to_string(f, col_space=10, index=False, header=False)"
   ]
  },
  {
   "cell_type": "markdown",
   "metadata": {},
   "source": [
    "### For SEP angles"
   ]
  },
  {
   "cell_type": "code",
   "execution_count": 17,
   "metadata": {},
   "outputs": [],
   "source": [
    "sep_angles = np.loadtxt(\"SEP_ANGLES.txt\")"
   ]
  },
  {
   "cell_type": "code",
   "execution_count": 18,
   "metadata": {},
   "outputs": [],
   "source": [
    "angle_i_sep = []\n",
    "angle_j_sep = []\n",
    "angle_k_sep = []\n",
    "for i in range(len(sep_angles)):    \n",
    "    for j in range(len(atom_index_sep)):\n",
    "        #-----for i-----#\n",
    "        if (sep_angles[:,0][i]-1 == atom_index_sep[j]):\n",
    "            angle_i_sep.append(atom_type_sep[j])\n",
    "            \n",
    "        #-----for j-----#\n",
    "        if (sep_angles[:,1][i]-1 == atom_index_sep[j]):\n",
    "            angle_j_sep.append(atom_type_sep[j])\n",
    "            \n",
    "        #-----for k-----#\n",
    "        if (sep_angles[:,2][i]-1 == atom_index_sep[j]):\n",
    "            angle_k_sep.append(atom_type_sep[j])\n",
    "            \n",
    "angle_i_sep = np.array(angle_i_sep)            \n",
    "angle_j_sep = np.array(angle_j_sep)  \n",
    "angle_k_sep = np.array(angle_k_sep)  "
   ]
  },
  {
   "cell_type": "code",
   "execution_count": 19,
   "metadata": {},
   "outputs": [],
   "source": [
    "sep_angles_str = sep_angles.astype(\"str\")\n",
    "sep_angles_str[:,0] = angle_i_sep\n",
    "sep_angles_str[:,1] = angle_j_sep\n",
    "sep_angles_str[:,2] = angle_k_sep\n",
    "sep_angles_str[:,3] = sep_angles_str[:,3].astype(float).astype(int).astype(\"str\")\n",
    "sep_angles_str = [[\"[ angletypes ];\"]] + sep_angles_str.tolist()"
   ]
  },
  {
   "cell_type": "code",
   "execution_count": 20,
   "metadata": {},
   "outputs": [],
   "source": [
    "df = pd.DataFrame(sep_angles_str)\n",
    "with open('SEP_ANGLES_WITH_TYPE_AND_VALUES.dat', 'w') as f: df.to_string(f, col_space=5, index=False, header=False)"
   ]
  },
  {
   "cell_type": "markdown",
   "metadata": {},
   "source": [
    "### For SEP dihedrals"
   ]
  },
  {
   "cell_type": "code",
   "execution_count": 21,
   "metadata": {},
   "outputs": [],
   "source": [
    "sep_dihedrals = np.loadtxt(\"SEP_DIHEDRALS.txt\")"
   ]
  },
  {
   "cell_type": "code",
   "execution_count": 22,
   "metadata": {},
   "outputs": [],
   "source": [
    "dihedral_i_sep = []\n",
    "dihedral_j_sep = []\n",
    "dihedral_k_sep = []\n",
    "dihedral_l_sep = []"
   ]
  },
  {
   "cell_type": "code",
   "execution_count": 23,
   "metadata": {},
   "outputs": [],
   "source": [
    "for i in range(len(sep_dihedrals)):    \n",
    "    for j in range(len(atom_index_sep)):\n",
    "        #-----for i-----#\n",
    "        if (sep_dihedrals[:,0][i]-1 == atom_index_sep[j]):\n",
    "            dihedral_i_sep.append(atom_type_sep[j])\n",
    "            \n",
    "        #-----for j-----#\n",
    "        if (sep_dihedrals[:,1][i]-1 == atom_index_sep[j]):\n",
    "            dihedral_j_sep.append(atom_type_sep[j])\n",
    "            \n",
    "        #-----for k-----#\n",
    "        if (sep_dihedrals[:,2][i]-1 == atom_index_sep[j]):\n",
    "            dihedral_k_sep.append(atom_type_sep[j])\n",
    "            \n",
    "        #-----for l-----#\n",
    "        if (sep_dihedrals[:,3][i]-1 == atom_index_sep[j]):\n",
    "            dihedral_l_sep.append(atom_type_sep[j])\n",
    "            \n",
    "dihedral_i_sep = np.array(dihedral_i_sep)            \n",
    "dihedral_j_sep = np.array(dihedral_j_sep)  \n",
    "dihedral_k_sep = np.array(dihedral_k_sep)  \n",
    "dihedral_l_sep = np.array(dihedral_l_sep)  "
   ]
  },
  {
   "cell_type": "code",
   "execution_count": 24,
   "metadata": {},
   "outputs": [],
   "source": [
    "sep_dihedrals_str = sep_dihedrals.astype(\"str\")\n",
    "sep_dihedrals_str[:,0] = dihedral_i_sep\n",
    "sep_dihedrals_str[:,1] = dihedral_j_sep\n",
    "sep_dihedrals_str[:,2] = dihedral_k_sep\n",
    "sep_dihedrals_str[:,3] = dihedral_l_sep\n",
    "sep_dihedrals_str[:,4]  = sep_dihedrals_str[:,4].astype(float).astype(int).astype(\"str\")\n",
    "sep_dihedrals_str[:,-1] = sep_dihedrals_str[:,-1].astype(float).astype(int).astype(\"str\")\n",
    "sep_dihedrals_str = [[\"[ dihedraltypes ];\"]] + sep_dihedrals_str.tolist()"
   ]
  },
  {
   "cell_type": "code",
   "execution_count": 25,
   "metadata": {},
   "outputs": [],
   "source": [
    "df = pd.DataFrame(sep_dihedrals_str)\n",
    "with open('SEP_DIHEDRALS_WITH_TYPE_AND_VALUES.dat', 'w') as f: df.to_string(f, col_space=10, index=False, header=False)"
   ]
  },
  {
   "cell_type": "markdown",
   "metadata": {},
   "source": [
    "### For SEP non-bonded"
   ]
  },
  {
   "cell_type": "code",
   "execution_count": 26,
   "metadata": {},
   "outputs": [],
   "source": [
    "with open(\"SEP_ATOMTYPES.txt\",'r') as file:\n",
    "    sep_atomtypes = np.array(file.read().splitlines())"
   ]
  },
  {
   "cell_type": "code",
   "execution_count": 27,
   "metadata": {},
   "outputs": [],
   "source": [
    "sep_nbond = []\n",
    "for i in range(len(sep_atomtypes)):\n",
    "    if (sep_atomtypes[i].split()[0] == 'OP' or sep_atomtypes[i].split()[0] == 'OQ' or sep_atomtypes[i].split()[0] == 'OR'):\n",
    "        sep_nbond.append([sep_atomtypes[i]])\n",
    "sep_nbond = np.array(sep_nbond)        "
   ]
  },
  {
   "cell_type": "code",
   "execution_count": 28,
   "metadata": {},
   "outputs": [],
   "source": [
    "sep_nbond = [[\"[ atomtypes ]\"]] + sep_nbond.tolist()\n",
    "df = pd.DataFrame(sep_nbond)\n",
    "with open('SEP_NONBONDED.dat', 'w') as f: df.to_string(f, col_space=2, index=False, header=False)"
   ]
  }
 ],
 "metadata": {
  "kernelspec": {
   "display_name": "Python 3 (ipykernel)",
   "language": "python",
   "name": "python3"
  },
  "language_info": {
   "codemirror_mode": {
    "name": "ipython",
    "version": 3
   },
   "file_extension": ".py",
   "mimetype": "text/x-python",
   "name": "python",
   "nbconvert_exporter": "python",
   "pygments_lexer": "ipython3",
   "version": "3.9.7"
  }
 },
 "nbformat": 4,
 "nbformat_minor": 2
}
