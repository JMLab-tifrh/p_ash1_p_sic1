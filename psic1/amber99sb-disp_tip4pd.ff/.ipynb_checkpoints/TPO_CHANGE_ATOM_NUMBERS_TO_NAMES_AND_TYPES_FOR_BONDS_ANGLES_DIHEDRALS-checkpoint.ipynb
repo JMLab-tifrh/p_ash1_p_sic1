{
 "cells": [
  {
   "cell_type": "code",
   "execution_count": 1,
   "metadata": {},
   "outputs": [
    {
     "data": {
      "application/vnd.jupyter.widget-view+json": {
       "model_id": "129b40ac6dce442db95b2c5918ae5e51",
       "version_major": 2,
       "version_minor": 0
      },
      "text/plain": []
     },
     "metadata": {},
     "output_type": "display_data"
    }
   ],
   "source": [
    "from mpl_toolkits.mplot3d import Axes3D\n",
    "from matplotlib.collections import PolyCollection\n",
    "from matplotlib.colors import colorConverter\n",
    "from matplotlib import cm\n",
    "import numpy as np\n",
    "import nmrglue as ng\n",
    "from scipy.optimize import curve_fit\n",
    "from scipy.special import wofz\n",
    "import matplotlib.pyplot as plt\n",
    "import matplotlib.gridspec as gridspec\n",
    "from ipywidgets import interact, fixed\n",
    "from numpy import cos, sin, arccos, pi as π, tan, exp\n",
    "from lmfit import Model\n",
    "from lmfit.models import PseudoVoigtModel, VoigtModel, LinearModel, ExponentialModel, StepModel, LorentzianModel\n",
    "import sys\n",
    "import scipy as sc\n",
    "import scipy.special as spl \n",
    "import nmrglue as ng\n",
    "import matplotlib as mpl\n",
    "import matplotlib.pyplot as plt\n",
    "from matplotlib import ticker\n",
    "from scipy.signal import find_peaks\n",
    "from scipy.constants import Boltzmann\n",
    "from numpy import power as pwr\n",
    "from scipy.stats import truncnorm\n",
    "import MDAnalysis as mda\n",
    "from MDAnalysis.tests.datafiles import PSF, DCD, GRO, XTC\n",
    "import nglview as nv\n",
    "from IPython.core.display import Image\n",
    "import io\n",
    "import pandas as pd\n",
    "import ipywidgets \n",
    "from MDAnalysis.analysis import diffusionmap, align\n",
    "from MDAnalysis.analysis.base import (AnalysisBase,\n",
    "                                      AnalysisFromFunction,\n",
    "                                      analysis_class)\n",
    "import mdtraj as md\n",
    "from nglview.datafiles import PDB, XTC\n",
    "import MDAnalysis.analysis.rms as rms\n",
    "from kneed import KneeLocator\n",
    "from sklearn.cluster import KMeans\n",
    "from sklearn.metrics import silhouette_score\n",
    "from sklearn.preprocessing import StandardScaler\n",
    "from contact_map import ContactFrequency, ContactDifference, RollingContactFrequency, ContactTrajectory\n",
    "import itertools\n",
    "from MDAnalysis import *\n",
    "from MDAnalysis.lib.formats.libdcd import DCDFile\n",
    "from sklearn import mixture\n",
    "from matplotlib import colors\n",
    "import gromacs as gmx\n",
    "from Bio.PDB import *\n",
    "import gc\n",
    "import parmed as pmd"
   ]
  },
  {
   "cell_type": "markdown",
   "metadata": {},
   "source": [
    "# For TPO"
   ]
  },
  {
   "cell_type": "code",
   "execution_count": 2,
   "metadata": {},
   "outputs": [
    {
     "name": "stdout",
     "output_type": "stream",
     "text": [
      "atom name =  ['N' 'H' 'CA' 'HA' 'CB' 'HB' 'CG2' 'HG21' 'HG22' 'HG23' 'OG1' 'P' 'O1P'\n",
      " 'O2P' 'O3P' 'C' 'O']\n",
      "atom type =  ['N' 'H' 'CT' 'H1' 'CT' 'H1' 'CT' 'HC' 'HC' 'HC' 'OZ' 'P' 'OX' 'OX' 'OX'\n",
      " 'C' 'O']\n"
     ]
    },
    {
     "name": "stderr",
     "output_type": "stream",
     "text": [
      "/home/subinoy/anaconda3/envs/md/lib/python3.9/site-packages/MDAnalysis/core/universe.py:159: UserWarning: No coordinate reader found for TPO.itp. Skipping this file.\n",
      "  warnings.warn('No coordinate reader found for {}. Skipping '\n"
     ]
    }
   ],
   "source": [
    "u = mda.Universe(\"TPO.itp\")\n",
    "print(\"atom name = \", u.atoms.names)\n",
    "print(\"atom type = \", u.atoms.types)"
   ]
  },
  {
   "cell_type": "code",
   "execution_count": 3,
   "metadata": {},
   "outputs": [],
   "source": [
    "atom_name_tpo = ['N', 'H', 'CA', 'HA', 'CB', 'HB', 'CG2', 'HG21', 'HG22', 'HG23', 'OG1', 'P', 'O1P', 'O2P', 'O3P', 'C', 'O']\n",
    "atom_type_tpo = ['N', 'H', 'CT', 'H1', 'CT', 'H1', 'CT', 'HC', 'HC', 'HC', 'OR', 'P', 'OX', 'OX', 'OX', 'C', 'O']\n",
    "atom_index_tpo = np.arange(len(atom_name_tpo))"
   ]
  },
  {
   "cell_type": "markdown",
   "metadata": {},
   "source": [
    "### For TPO atoms"
   ]
  },
  {
   "cell_type": "code",
   "execution_count": 4,
   "metadata": {},
   "outputs": [],
   "source": [
    "with open(\"TPO_ATOMS.txt\",'r') as file:\n",
    "    tpo_atoms = np.array(file.read().splitlines())"
   ]
  },
  {
   "cell_type": "code",
   "execution_count": 5,
   "metadata": {},
   "outputs": [],
   "source": [
    "tpo_charge = []\n",
    "tpo_index = []\n",
    "for i in range(len(tpo_atoms)):\n",
    "    tpo_charge.append(tpo_atoms[i].split()[6])\n",
    "    tpo_index.append(tpo_atoms[i].split()[0])"
   ]
  },
  {
   "cell_type": "code",
   "execution_count": 6,
   "metadata": {},
   "outputs": [],
   "source": [
    "tpo_atoms_all = list(zip(atom_name_tpo, atom_type_tpo, tpo_charge, tpo_index))\n",
    "tpo_atoms_all = [[\"[ TPO ];\"]] + [[\"[ atoms ];\"]] + tpo_atoms_all"
   ]
  },
  {
   "cell_type": "code",
   "execution_count": 7,
   "metadata": {},
   "outputs": [],
   "source": [
    "df_atoms = pd.DataFrame(tpo_atoms_all)\n",
    "with open('TPO_ATOMS.dat', 'w') as f: df_atoms.to_string(f, col_space=10, index=False, header=False)"
   ]
  },
  {
   "cell_type": "markdown",
   "metadata": {},
   "source": [
    "### For TPO bonds"
   ]
  },
  {
   "cell_type": "code",
   "execution_count": 8,
   "metadata": {},
   "outputs": [],
   "source": [
    "tpo_bonds = np.loadtxt(\"TPO_BONDS.txt\")"
   ]
  },
  {
   "cell_type": "code",
   "execution_count": 9,
   "metadata": {},
   "outputs": [],
   "source": [
    "name_tpo_1 = []\n",
    "name_tpo_2 = []"
   ]
  },
  {
   "cell_type": "code",
   "execution_count": 10,
   "metadata": {},
   "outputs": [],
   "source": [
    "name_tpo_1.append(\"[ bonds ]\")\n",
    "name_tpo_2.append(\" \")\n",
    "for i in range(len(tpo_bonds)):    \n",
    "    for j in range(len(atom_index_tpo)):\n",
    "        \n",
    "        #-----for atom name-----#\n",
    "        if (tpo_bonds[:,0][i]-1 == atom_index_tpo[j]):\n",
    "            name_tpo_1.append(atom_name_tpo[j])\n",
    "            \n",
    "        #-----for atom name-----#\n",
    "        if (tpo_bonds[:,1][i]-1 == atom_index_tpo[j]):\n",
    "            name_tpo_2.append(atom_name_tpo[j])"
   ]
  },
  {
   "cell_type": "code",
   "execution_count": 11,
   "metadata": {},
   "outputs": [],
   "source": [
    "name_tpo_1.append(\"-C\")\n",
    "name_tpo_2.append(\"N\")"
   ]
  },
  {
   "cell_type": "code",
   "execution_count": 12,
   "metadata": {},
   "outputs": [],
   "source": [
    "tpo_bond = np.column_stack([name_tpo_1, name_tpo_2])\n",
    "df_name = pd.DataFrame(tpo_bond)\n",
    "with open('TPO_BONDS_WITH_NAME.dat', 'w') as f: df_name.to_string(f, col_space=5, index=False, header=False)"
   ]
  },
  {
   "cell_type": "code",
   "execution_count": 13,
   "metadata": {},
   "outputs": [],
   "source": [
    "type_tpo_1 = []\n",
    "type_tpo_2 = []"
   ]
  },
  {
   "cell_type": "code",
   "execution_count": 14,
   "metadata": {},
   "outputs": [],
   "source": [
    "for i in range(len(tpo_bonds)):    \n",
    "    for j in range(len(atom_index_tpo)):\n",
    "            \n",
    "        #-----for atom type-----#\n",
    "        if (tpo_bonds[:,0][i]-1 == atom_index_tpo[j]):\n",
    "            type_tpo_1.append(atom_type_tpo[j])\n",
    "            \n",
    "        #-----for atom name-----#\n",
    "        if (tpo_bonds[:,1][i]-1 == atom_index_tpo[j]):\n",
    "            type_tpo_2.append(atom_type_tpo[j])                 "
   ]
  },
  {
   "cell_type": "code",
   "execution_count": 15,
   "metadata": {},
   "outputs": [],
   "source": [
    "tpo_bonds_type_str = tpo_bonds.astype(\"str\")\n",
    "tpo_bonds_type_str[:,0] = type_tpo_1\n",
    "tpo_bonds_type_str[:,1] = type_tpo_2\n",
    "tpo_bonds_type_str[:,2] = tpo_bonds_type_str[:,2].astype(float).astype(int).astype(\"str\")\n",
    "tpo_bonds_type_str = [[\"[ bondtypes ];\"]] + tpo_bonds_type_str.tolist()"
   ]
  },
  {
   "cell_type": "code",
   "execution_count": 16,
   "metadata": {},
   "outputs": [],
   "source": [
    "df_type = pd.DataFrame(tpo_bonds_type_str)\n",
    "with open('TPO_BONDS_WITH_TYPE_AND_VALUES.dat', 'w') as f: df_type.to_string(f, col_space=10, index=False, header=False)"
   ]
  },
  {
   "cell_type": "markdown",
   "metadata": {},
   "source": [
    "### For TPO angles"
   ]
  },
  {
   "cell_type": "code",
   "execution_count": 17,
   "metadata": {},
   "outputs": [],
   "source": [
    "tpo_angles = np.loadtxt(\"TPO_ANGLES.txt\")"
   ]
  },
  {
   "cell_type": "code",
   "execution_count": 18,
   "metadata": {},
   "outputs": [],
   "source": [
    "angle_i_tpo = []\n",
    "angle_j_tpo = []\n",
    "angle_k_tpo = []\n",
    "for i in range(len(tpo_angles)):    \n",
    "    for j in range(len(atom_index_tpo)):\n",
    "        #-----for i-----#\n",
    "        if (tpo_angles[:,0][i]-1 == atom_index_tpo[j]):\n",
    "            angle_i_tpo.append(atom_type_tpo[j])\n",
    "            \n",
    "        #-----for j-----#\n",
    "        if (tpo_angles[:,1][i]-1 == atom_index_tpo[j]):\n",
    "            angle_j_tpo.append(atom_type_tpo[j])\n",
    "            \n",
    "        #-----for k-----#\n",
    "        if (tpo_angles[:,2][i]-1 == atom_index_tpo[j]):\n",
    "            angle_k_tpo.append(atom_type_tpo[j])\n",
    "            \n",
    "angle_i_tpo = np.array(angle_i_tpo)            \n",
    "angle_j_tpo = np.array(angle_j_tpo)  \n",
    "angle_k_tpo = np.array(angle_k_tpo)  "
   ]
  },
  {
   "cell_type": "code",
   "execution_count": 19,
   "metadata": {},
   "outputs": [],
   "source": [
    "tpo_angles_str = tpo_angles.astype(\"str\")\n",
    "tpo_angles_str[:,0] = angle_i_tpo\n",
    "tpo_angles_str[:,1] = angle_j_tpo\n",
    "tpo_angles_str[:,2] = angle_k_tpo\n",
    "tpo_angles_str[:,3] = tpo_angles_str[:,3].astype(float).astype(int).astype(\"str\")\n",
    "tpo_angles_str = [[\"[ angletypes ];\"]] + tpo_angles_str.tolist()"
   ]
  },
  {
   "cell_type": "code",
   "execution_count": 20,
   "metadata": {},
   "outputs": [],
   "source": [
    "df = pd.DataFrame(tpo_angles_str)\n",
    "with open('TPO_ANGLES_WITH_TYPE_AND_VALUES.dat', 'w') as f: df.to_string(f, col_space=5, index=False, header=False)"
   ]
  },
  {
   "cell_type": "markdown",
   "metadata": {},
   "source": [
    "### For TPO dihedrals"
   ]
  },
  {
   "cell_type": "code",
   "execution_count": 21,
   "metadata": {},
   "outputs": [],
   "source": [
    "tpo_dihedrals = np.loadtxt(\"TPO_DIHEDRALS.txt\")"
   ]
  },
  {
   "cell_type": "code",
   "execution_count": 22,
   "metadata": {},
   "outputs": [],
   "source": [
    "dihedral_i_tpo = []\n",
    "dihedral_j_tpo = []\n",
    "dihedral_k_tpo = []\n",
    "dihedral_l_tpo = []"
   ]
  },
  {
   "cell_type": "code",
   "execution_count": 23,
   "metadata": {},
   "outputs": [],
   "source": [
    "for i in range(len(tpo_dihedrals)):    \n",
    "    for j in range(len(atom_index_tpo)):\n",
    "        #-----for i-----#\n",
    "        if (tpo_dihedrals[:,0][i]-1 == atom_index_tpo[j]):\n",
    "            dihedral_i_tpo.append(atom_type_tpo[j])\n",
    "            \n",
    "        #-----for j-----#\n",
    "        if (tpo_dihedrals[:,1][i]-1 == atom_index_tpo[j]):\n",
    "            dihedral_j_tpo.append(atom_type_tpo[j])\n",
    "            \n",
    "        #-----for k-----#\n",
    "        if (tpo_dihedrals[:,2][i]-1 == atom_index_tpo[j]):\n",
    "            dihedral_k_tpo.append(atom_type_tpo[j])\n",
    "            \n",
    "        #-----for l-----#\n",
    "        if (tpo_dihedrals[:,3][i]-1 == atom_index_tpo[j]):\n",
    "            dihedral_l_tpo.append(atom_type_tpo[j])\n",
    "            \n",
    "dihedral_i_tpo = np.array(dihedral_i_tpo)            \n",
    "dihedral_j_tpo = np.array(dihedral_j_tpo)  \n",
    "dihedral_k_tpo = np.array(dihedral_k_tpo)  \n",
    "dihedral_l_tpo = np.array(dihedral_l_tpo)  "
   ]
  },
  {
   "cell_type": "code",
   "execution_count": 24,
   "metadata": {},
   "outputs": [],
   "source": [
    "tpo_dihedrals_str = tpo_dihedrals.astype(\"str\")\n",
    "tpo_dihedrals_str[:,0] = dihedral_i_tpo\n",
    "tpo_dihedrals_str[:,1] = dihedral_j_tpo\n",
    "tpo_dihedrals_str[:,2] = dihedral_k_tpo\n",
    "tpo_dihedrals_str[:,3] = dihedral_l_tpo\n",
    "tpo_dihedrals_str[:,4]  = tpo_dihedrals_str[:,4].astype(float).astype(int).astype(\"str\")\n",
    "tpo_dihedrals_str[:,-1] = tpo_dihedrals_str[:,-1].astype(float).astype(int).astype(\"str\")\n",
    "tpo_dihedrals_str = [[\"[ dihedraltypes ];\"]] + tpo_dihedrals_str.tolist()"
   ]
  },
  {
   "cell_type": "code",
   "execution_count": 25,
   "metadata": {},
   "outputs": [],
   "source": [
    "df = pd.DataFrame(tpo_dihedrals_str)\n",
    "with open('TPO_DIHEDRALS_WITH_TYPE_AND_VALUES.dat', 'w') as f: df.to_string(f, col_space=10, index=False, header=False)"
   ]
  },
  {
   "cell_type": "markdown",
   "metadata": {},
   "source": [
    "### For TPO non-bonded"
   ]
  },
  {
   "cell_type": "code",
   "execution_count": 26,
   "metadata": {},
   "outputs": [],
   "source": [
    "with open(\"TPO_ATOMTYPES.txt\",'r') as file:\n",
    "    tpo_atomtypes = np.array(file.read().splitlines())"
   ]
  },
  {
   "cell_type": "code",
   "execution_count": 27,
   "metadata": {},
   "outputs": [],
   "source": [
    "tpo_nbond = []\n",
    "for i in range(len(tpo_atomtypes)):\n",
    "    if (tpo_atomtypes[i].split()[0] == 'OP' or tpo_atomtypes[i].split()[0] == 'OQ' or tpo_atomtypes[i].split()[0] == 'OR'):\n",
    "        tpo_nbond.append([tpo_atomtypes[i]])\n",
    "tpo_nbond = np.array(tpo_nbond)        "
   ]
  },
  {
   "cell_type": "code",
   "execution_count": 28,
   "metadata": {},
   "outputs": [],
   "source": [
    "tpo_nbond = [[\"[ atomtypes ]\"]] + tpo_nbond.tolist()\n",
    "df = pd.DataFrame(tpo_nbond)\n",
    "with open('TPO_NONBONDED.dat', 'w') as f: df.to_string(f, col_space=2, index=False, header=False)"
   ]
  }
 ],
 "metadata": {
  "kernelspec": {
   "display_name": "Python 3 (ipykernel)",
   "language": "python",
   "name": "python3"
  },
  "language_info": {
   "codemirror_mode": {
    "name": "ipython",
    "version": 3
   },
   "file_extension": ".py",
   "mimetype": "text/x-python",
   "name": "python",
   "nbconvert_exporter": "python",
   "pygments_lexer": "ipython3",
   "version": "3.9.7"
  }
 },
 "nbformat": 4,
 "nbformat_minor": 2
}
