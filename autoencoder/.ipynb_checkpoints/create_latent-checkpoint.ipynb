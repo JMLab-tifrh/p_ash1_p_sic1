{
 "cells": [
  {
   "cell_type": "code",
   "execution_count": null,
   "id": "c7968023",
   "metadata": {},
   "outputs": [],
   "source": [
    "from mpl_toolkits.mplot3d import Axes3D\n",
    "from matplotlib.collections import PolyCollection\n",
    "from matplotlib.colors import colorConverter\n",
    "from matplotlib import cm\n",
    "import numpy as np\n",
    "import nmrglue as ng\n",
    "from scipy.optimize import curve_fit\n",
    "from scipy.special import wofz\n",
    "import matplotlib.pyplot as plt\n",
    "import matplotlib.gridspec as gridspec\n",
    "from ipywidgets import interact, fixed\n",
    "from numpy import cos, sin, arccos, pi as π, tan, exp\n",
    "from lmfit import Model\n",
    "from lmfit.models import PseudoVoigtModel, VoigtModel, LinearModel, ExponentialModel, StepModel, LorentzianModel\n",
    "import sys\n",
    "import scipy as sc\n",
    "import scipy.special as spl \n",
    "import nmrglue as ng\n",
    "import matplotlib as mpl\n",
    "import matplotlib.pyplot as plt\n",
    "from matplotlib import ticker\n",
    "from scipy.signal import find_peaks\n",
    "from scipy.constants import Boltzmann\n",
    "from numpy import power as pwr\n",
    "from scipy.stats import truncnorm\n",
    "import MDAnalysis as mda\n",
    "from MDAnalysis.tests.datafiles import PSF, DCD, GRO, XTC\n",
    "import nglview as nv\n",
    "from IPython.core.display import Image\n",
    "import io\n",
    "import pandas as pd\n",
    "import ipywidgets \n",
    "from MDAnalysis.analysis import diffusionmap, align\n",
    "from MDAnalysis.analysis.base import (AnalysisBase,\n",
    "                                      AnalysisFromFunction,\n",
    "                                      analysis_class)\n",
    "import mdtraj as md\n",
    "from nglview.datafiles import PDB, XTC\n",
    "import MDAnalysis.analysis.rms as rms\n",
    "from kneed import KneeLocator\n",
    "from sklearn.cluster import KMeans\n",
    "from sklearn.metrics import silhouette_score\n",
    "from sklearn.preprocessing import StandardScaler\n",
    "from contact_map import ContactFrequency, ContactDifference, RollingContactFrequency, ContactTrajectory\n",
    "import itertools\n",
    "from MDAnalysis import *\n",
    "from MDAnalysis.lib.formats.libdcd import DCDFile\n",
    "from sklearn import mixture\n",
    "from matplotlib import colors\n",
    "# import gromacs as gmx\n",
    "from Bio.PDB import *\n",
    "import gc\n",
    "from matplotlib.colors import LinearSegmentedColormap\n",
    "import statistics as st\n",
    "from MDAnalysis.analysis.rms import RMSF\n",
    "import MDAnalysis.transformations.boxdimensions as mda_box\n",
    "# import pyemma.coordinates as coor\n",
    "from sklearn.preprocessing import StandardScaler, MinMaxScaler\n",
    "# import pyemma\n",
    "# import pyemma.msm as msm\n",
    "# import pyemma.plots as mplt\n",
    "from scipy.spatial import distance\n",
    "\n",
    "import tensorflow as tf\n",
    "import keras_tuner.tuners as kt\n",
    "from tensorflow.keras import Model\n",
    "from tensorflow.keras import Sequential\n",
    "from sklearn.preprocessing import StandardScaler\n",
    "from tensorflow.keras.layers import Dense, Dropout\n",
    "from sklearn.model_selection import train_test_split\n",
    "from tensorflow.keras.losses import MeanSquaredLogarithmicError\n",
    "from tensorflow.keras.layers import Input, Conv2D, ReLU, BatchNormalization, Dense, Flatten, Reshape, Conv2DTranspose,\\\n",
    "PReLU\n",
    "from tensorflow.keras.layers import LeakyReLU, ELU\n",
    "from tensorflow.keras import backend as K\n",
    "from tensorflow.keras.optimizers import Adam\n",
    "from tensorflow.keras.losses import MeanSquaredError, BinaryCrossentropy\n",
    "from sklearn.datasets import make_classification\n",
    "from keras.datasets import mnist\n",
    "import os\n",
    "import pickle\n",
    "from keras.initializers import Constant, VarianceScaling\n",
    "from MDAnalysis.analysis import contacts\n",
    "from sklearn.linear_model import LogisticRegression\n",
    "from sklearn.metrics import accuracy_score\n",
    "from sklearn.naive_bayes import GaussianNB \n",
    "from dense_autoencoder import dense_autoencoder, gpu_id\n",
    "\n",
    "%matplotlib inline"
   ]
  },
  {
   "cell_type": "markdown",
   "id": "48c23319",
   "metadata": {},
   "source": [
    "### Load the data"
   ]
  },
  {
   "cell_type": "code",
   "execution_count": null,
   "id": "3e82ae00",
   "metadata": {},
   "outputs": [],
   "source": [
    "traj = md.load_xtc(\"../traj_file.xtc\", top=\"../protein.pdb\")"
   ]
  },
  {
   "cell_type": "markdown",
   "id": "ecc190de",
   "metadata": {},
   "source": [
    "### Cα Contacts"
   ]
  },
  {
   "cell_type": "code",
   "execution_count": null,
   "id": "37f2af8e",
   "metadata": {},
   "outputs": [],
   "source": [
    "ca_contact = md.compute_contacts(traj, contacts='all', scheme='ca')[0]"
   ]
  },
  {
   "cell_type": "markdown",
   "id": "1139e2df",
   "metadata": {},
   "source": [
    "### Method to scale the data"
   ]
  },
  {
   "cell_type": "code",
   "execution_count": null,
   "id": "38af75e8",
   "metadata": {},
   "outputs": [],
   "source": [
    "def data_scaling(scaler, data, fit, transform): # method to scale the data\n",
    "    if fit:\n",
    "        fit_data = scaler.fit(data)\n",
    "    else:\n",
    "        fit_data = data\n",
    "        \n",
    "    if transform:\n",
    "        scaled_data = fit_data.transform(data)\n",
    "    else:\n",
    "        scaled_data = fit_data\n",
    "        \n",
    "    return scaled_data"
   ]
  },
  {
   "cell_type": "markdown",
   "id": "85a21879",
   "metadata": {},
   "source": [
    "### Scale the data for latent dimension"
   ]
  },
  {
   "cell_type": "code",
   "execution_count": null,
   "id": "9bce7222",
   "metadata": {},
   "outputs": [],
   "source": [
    "ca_contact_scaled = data_scaling(scaler=MinMaxScaler(),\n",
    "                                 data=ca_contact,\n",
    "                                 fit=True,\n",
    "                                 transform=True)"
   ]
  },
  {
   "cell_type": "code",
   "execution_count": null,
   "id": "2b0d8374",
   "metadata": {},
   "outputs": [],
   "source": [
    "latent_neuron = 2\n",
    "\n",
    "path=\"/path/to/saved/model/directory\"\n",
    "\n",
    "save_dir_name = path+f\"/protein_latent_{latent_neuron}_actv_elu_batch_100_epochs_300\"\n",
    "ate=dense_autoencoder.load(save_dir_name)"
   ]
  },
  {
   "cell_type": "code",
   "execution_count": null,
   "id": "28a982d9",
   "metadata": {
    "scrolled": false
   },
   "outputs": [],
   "source": [
    "# Determine the latent data\n",
    "latent_data, _ = ate.reconstruct(ca_contact_scaled)"
   ]
  },
  {
   "cell_type": "code",
   "execution_count": null,
   "id": "120be8fa",
   "metadata": {},
   "outputs": [],
   "source": []
  }
 ],
 "metadata": {
  "kernelspec": {
   "display_name": "Python 3 (ipykernel)",
   "language": "python",
   "name": "python3"
  },
  "language_info": {
   "codemirror_mode": {
    "name": "ipython",
    "version": 3
   },
   "file_extension": ".py",
   "mimetype": "text/x-python",
   "name": "python",
   "nbconvert_exporter": "python",
   "pygments_lexer": "ipython3",
   "version": "3.11.0"
  }
 },
 "nbformat": 4,
 "nbformat_minor": 5
}
